{
 "cells": [
  {
   "cell_type": "code",
   "execution_count": null,
   "id": "ab84f0c1",
   "metadata": {},
   "outputs": [],
   "source": []
  }
 ],
 "metadata": {},
 "nbformat": 4,
 "nbformat_minor": 5
}
