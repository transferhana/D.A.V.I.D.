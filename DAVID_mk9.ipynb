{
 "cells": [
  {
   "cell_type": "code",
   "execution_count": null,
   "id": "d81046ca",
   "metadata": {},
   "outputs": [],
   "source": [
    "# DAVID mk9\n",
    "\n",
    "# 여기에 전체 코드 복사 및 수정\n",
    "\n",
    "tag_filter_dropdown = widgets.Label(value='', layout=layout_medium)"
   ]
  }
 ],
 "metadata": {},
 "nbformat": 4,
 "nbformat_minor": 5
}
